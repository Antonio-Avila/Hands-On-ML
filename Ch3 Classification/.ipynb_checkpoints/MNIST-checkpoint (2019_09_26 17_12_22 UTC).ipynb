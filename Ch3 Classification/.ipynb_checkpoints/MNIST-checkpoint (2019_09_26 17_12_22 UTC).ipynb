{
 "cells": [
  {
   "cell_type": "markdown",
   "metadata": {},
   "source": [
    "# Classification!!!!!!!!"
   ]
  },
  {
   "cell_type": "markdown",
   "metadata": {},
   "source": [
    "Using the MNIST dataset which contains 70,000 labeled images of handwritten digits."
   ]
  },
  {
   "cell_type": "code",
   "execution_count": 1,
   "metadata": {},
   "outputs": [
    {
     "data": {
      "text/plain": [
       "dict_keys(['data', 'target', 'feature_names', 'DESCR', 'details', 'categories', 'url'])"
      ]
     },
     "execution_count": 1,
     "metadata": {},
     "output_type": "execute_result"
    }
   ],
   "source": [
    "import numpy as np\n",
    "import pandas as pd\n",
    "from sklearn.datasets import fetch_openml\n",
    "\n",
    "mnist = fetch_openml('mnist_784', version = 1)\n",
    "mnist.keys()"
   ]
  },
  {
   "cell_type": "markdown",
   "metadata": {},
   "source": [
    "sklearn datasets have similar dictionary structure:\n",
    "- DESCR key describes dataset\n",
    "- DATA key contains data, one row per instance one column per feature\n",
    "- TARGET  key contains labels"
   ]
  },
  {
   "cell_type": "code",
   "execution_count": 2,
   "metadata": {},
   "outputs": [
    {
     "name": "stdout",
     "output_type": "stream",
     "text": [
      "(70000, 784)\n"
     ]
    },
    {
     "data": {
      "text/plain": [
       "(70000,)"
      ]
     },
     "execution_count": 2,
     "metadata": {},
     "output_type": "execute_result"
    }
   ],
   "source": [
    "X, y = mnist[\"data\"], mnist[\"target\"]\n",
    "print(X.shape)\n",
    "y.shape"
   ]
  },
  {
   "cell_type": "code",
   "execution_count": 3,
   "metadata": {},
   "outputs": [],
   "source": [
    "# Since most algs expect a number, need to change the type of the y variable\n",
    "# Currently saved labels as strings, convert to integer\n",
    "\n",
    "\n",
    "y = y.astype(np.uint8)"
   ]
  },
  {
   "cell_type": "markdown",
   "metadata": {},
   "source": [
    "There are 70,000 images and each image has 784 features. 784 features comes from each image being $28 \\times 28$ pixels and each feature represencts one pixel's intensity from 0(white) to 255(black). \n",
    "\n",
    "To Look at image, need to grab instance's feature cector, reshape to array and plot using matplotlib's imshow() function."
   ]
  },
  {
   "cell_type": "code",
   "execution_count": 4,
   "metadata": {},
   "outputs": [
    {
     "data": {
      "text/plain": [
       "<Figure size 640x480 with 1 Axes>"
      ]
     },
     "metadata": {},
     "output_type": "display_data"
    },
    {
     "data": {
      "text/plain": [
       "5"
      ]
     },
     "execution_count": 4,
     "metadata": {},
     "output_type": "execute_result"
    }
   ],
   "source": [
    "import matplotlib as mpl\n",
    "import matplotlib.pyplot as plt\n",
    "\n",
    "some_digit = X[0]\n",
    "some_digit_image = some_digit.reshape(28,28)\n",
    "\n",
    "plt.imshow(some_digit_image, cmap = \"binary\")\n",
    "plt.axis(\"off\")\n",
    "plt.show()\n",
    "y[0]"
   ]
  },
  {
   "cell_type": "markdown",
   "metadata": {},
   "source": [
    "Reminder: always need to split into training and test sets before inspecting data. Already done, datasets is split such that the first 60,000 images should be the training set and the last 10,000 images should be test set. Train set is already shuffled, no need to worry about some digits missing when creating validation folds. \n",
    "\n",
    "Some algorithims perform poorly when given similar instances in a row. "
   ]
  },
  {
   "cell_type": "code",
   "execution_count": 5,
   "metadata": {},
   "outputs": [],
   "source": [
    "X_train, X_test, y_train, y_test = X[:60000], X[:10000], y[:60000], y[:10000]"
   ]
  },
  {
   "cell_type": "markdown",
   "metadata": {},
   "source": [
    "## Training a Binary Classifier"
   ]
  },
  {
   "cell_type": "markdown",
   "metadata": {},
   "source": [
    "To make a simple binary classifier for this example, could create one such that it only detects a single digit. Author chose to create a \"5-detector\". Detects whether a digit is 5 or not 5 (binary choice)."
   ]
  },
  {
   "cell_type": "code",
   "execution_count": 6,
   "metadata": {},
   "outputs": [],
   "source": [
    "y_train_5 = (y_train == 5)\n",
    "y_test_5 = (y_test == 5)"
   ]
  },
  {
   "cell_type": "markdown",
   "metadata": {},
   "source": [
    "First classifier chose to try is a _Stochastic Gradient Descent_ classifier (SGD) using sklearn's SGDClassifier. \n",
    "- Handles large datasets efficiently.\n",
    "- deals with training instances independently (makes it good for online learning also) \n",
    "    \n",
    "Since SGDClassifier relies on randomness during training, might want to set a random_state to get reproducible results."
   ]
  },
  {
   "cell_type": "code",
   "execution_count": 7,
   "metadata": {},
   "outputs": [
    {
     "data": {
      "text/plain": [
       "SGDClassifier(alpha=0.0001, average=False, class_weight=None,\n",
       "              early_stopping=False, epsilon=0.1, eta0=0.0, fit_intercept=True,\n",
       "              l1_ratio=0.15, learning_rate='optimal', loss='hinge',\n",
       "              max_iter=1000, n_iter_no_change=5, n_jobs=None, penalty='l2',\n",
       "              power_t=0.5, random_state=42, shuffle=True, tol=0.001,\n",
       "              validation_fraction=0.1, verbose=0, warm_start=False)"
      ]
     },
     "execution_count": 7,
     "metadata": {},
     "output_type": "execute_result"
    }
   ],
   "source": [
    "from sklearn.linear_model import SGDClassifier\n",
    "\n",
    "sgd_clf = SGDClassifier(random_state = 42)\n",
    "sgd_clf.fit(X_train, y_train_5)\n"
   ]
  },
  {
   "cell_type": "code",
   "execution_count": 8,
   "metadata": {},
   "outputs": [
    {
     "name": "stdout",
     "output_type": "stream",
     "text": [
      "[ True]\n",
      "[False]\n"
     ]
    }
   ],
   "source": [
    "print(sgd_clf.predict([some_digit])) # digit was 5 correct\n",
    "print(sgd_clf.predict([X[1]])) # digit was 0 correct"
   ]
  },
  {
   "cell_type": "markdown",
   "metadata": {},
   "source": [
    "## Performance Measures"
   ]
  },
  {
   "cell_type": "markdown",
   "metadata": {},
   "source": [
    "    Evaluating performance of classifier can be trickier than for regressor, many different performance measures."
   ]
  },
  {
   "cell_type": "markdown",
   "metadata": {},
   "source": [
    "#### Measuring Accuracy Using Cross Validation\n"
   ]
  },
  {
   "cell_type": "markdown",
   "metadata": {},
   "source": [
    "Similar to CV from before.  Occasionally need more control of cross validation process than the SKLEARN funciton provides. Can be implimented on own. Function below does similar thing to function cross_val_score()\n",
    "\n",
    "StratifiedKFold function below performs stratified sampling to create folds representative of ratios of each class. At each iteration, for each fold, the classifier is cloned and trained on the training folds which in turn is used to make predictions on the test fold. Finally, counts number of correct predictions and outputs the ration of correct predictions."
   ]
  },
  {
   "cell_type": "code",
   "execution_count": 9,
   "metadata": {},
   "outputs": [
    {
     "name": "stdout",
     "output_type": "stream",
     "text": [
      "0.95035\n",
      "0.96035\n",
      "0.9604\n"
     ]
    }
   ],
   "source": [
    "from sklearn.model_selection import StratifiedKFold\n",
    "from sklearn.base import clone\n",
    "\n",
    "skfolds = StratifiedKFold(n_splits = 3, random_state = 42)\n",
    "\n",
    "for train_index, test_index in skfolds.split(X_train, y_train_5):\n",
    "    clone_clf = clone(sgd_clf)\n",
    "    X_train_folds = X_train[train_index]\n",
    "    y_train_folds = y_train_5[train_index]\n",
    "    X_test_fold = X_train[test_index]\n",
    "    y_test_fold = y_train_5[test_index]\n",
    "    \n",
    "    clone_clf.fit(X_train_folds, y_train_folds)\n",
    "    y_pred = clone_clf.predict(X_test_fold)\n",
    "    n_correct = sum(y_pred == y_test_fold)\n",
    "    print(n_correct / len(y_pred))"
   ]
  },
  {
   "cell_type": "code",
   "execution_count": 10,
   "metadata": {},
   "outputs": [
    {
     "data": {
      "text/plain": [
       "array([0.95035, 0.96035, 0.9604 ])"
      ]
     },
     "execution_count": 10,
     "metadata": {},
     "output_type": "execute_result"
    }
   ],
   "source": [
    "# using the cross_val_score)() function to try to do the same\n",
    "from sklearn.model_selection import cross_val_score\n",
    "\n",
    "cross_val_score(sgd_clf, X_train, y_train_5, cv = 3, scoring=\"accuracy\")"
   ]
  },
  {
   "cell_type": "code",
   "execution_count": 11,
   "metadata": {},
   "outputs": [
    {
     "data": {
      "text/plain": [
       "array([0.91125, 0.90855, 0.90915])"
      ]
     },
     "execution_count": 11,
     "metadata": {},
     "output_type": "execute_result"
    }
   ],
   "source": [
    "#Going to create a classifier that classifies every image as not 5\n",
    "\n",
    "from sklearn.base import BaseEstimator\n",
    "\n",
    "class Never5Classifier(BaseEstimator):\n",
    "    def fit(self, X, y = None):\n",
    "        pass\n",
    "    def predict(self, X):\n",
    "        return np.zeros((len(X), 1), dtype = bool)\n",
    "    \n",
    "never_5_clf = Never5Classifier()\n",
    "cross_val_score(never_5_clf, X_train, y_train_5, cv = 3, scoring = \"accuracy\")"
   ]
  },
  {
   "cell_type": "markdown",
   "metadata": {},
   "source": [
    "The \"not 5\" classifier tends to \"perform\" very well in classifying between images. This is not becuase it is a particularly good classifier, it is more of a result of about 90% of the data being numbers other than 5, so if classifying numbers as not 5, will be correct about 90% of the time.\n",
    "\n",
    "**Note:** This is why accuracy not generally the prefered performance measuer for classifier. Especially when have *skewed datasets* (some classes more frequent than others)"
   ]
  },
  {
   "cell_type": "markdown",
   "metadata": {},
   "source": [
    "#### Confusion Matrix\n",
    "\n",
    "Much better way to evaluate a classifier, takes into account the possible types of misclassification, ie False Positive and False Negatives. \n",
    "\n",
    "Need to have predictions to compare the actuals to compute confusion matrix. Could make predictions on the test set, but its better to leave it untouched for now, remaining blind to it. Can use the *cross_val_predict()* function:"
   ]
  },
  {
   "cell_type": "code",
   "execution_count": 12,
   "metadata": {},
   "outputs": [],
   "source": [
    "from sklearn.model_selection import cross_val_predict\n",
    "\n",
    "y_train_pred = cross_val_predict(sgd_clf, X_train, y_train_5, cv = 3)"
   ]
  },
  {
   "cell_type": "markdown",
   "metadata": {},
   "source": [
    "Similar to cross_val_score function, perform K fold CV, instead of providing the score for each fold, it returns the predictions foe each test fold. Thus get \"clean\" predicitons, meaning predictions were made by a model that never saw that particular set of data during the training process. \n",
    "\n",
    "Now that have predictions, can use the *confusion_matrix()* function by passing the target classes and the predicted classes to it.\n"
   ]
  },
  {
   "cell_type": "code",
   "execution_count": 13,
   "metadata": {},
   "outputs": [
    {
     "data": {
      "text/html": [
       "<div>\n",
       "<style scoped>\n",
       "    .dataframe tbody tr th:only-of-type {\n",
       "        vertical-align: middle;\n",
       "    }\n",
       "\n",
       "    .dataframe tbody tr th {\n",
       "        vertical-align: top;\n",
       "    }\n",
       "\n",
       "    .dataframe thead th {\n",
       "        text-align: right;\n",
       "    }\n",
       "</style>\n",
       "<table border=\"1\" class=\"dataframe\">\n",
       "  <thead>\n",
       "    <tr style=\"text-align: right;\">\n",
       "      <th></th>\n",
       "      <th>0</th>\n",
       "      <th>1</th>\n",
       "    </tr>\n",
       "  </thead>\n",
       "  <tbody>\n",
       "    <tr>\n",
       "      <th>0</th>\n",
       "      <td>53892</td>\n",
       "      <td>687</td>\n",
       "    </tr>\n",
       "    <tr>\n",
       "      <th>1</th>\n",
       "      <td>1891</td>\n",
       "      <td>3530</td>\n",
       "    </tr>\n",
       "  </tbody>\n",
       "</table>\n",
       "</div>"
      ],
      "text/plain": [
       "       0     1\n",
       "0  53892   687\n",
       "1   1891  3530"
      ]
     },
     "execution_count": 13,
     "metadata": {},
     "output_type": "execute_result"
    }
   ],
   "source": [
    "from sklearn.metrics import confusion_matrix\n",
    "pd.DataFrame( confusion_matrix(y_train_5, y_train_pred) )"
   ]
  },
  {
   "cell_type": "markdown",
   "metadata": {},
   "source": [
    "Rows represent the actual class and columsn the predicted. Though the confusion matrix does provide a lot of information of the clasifier, may prefer a mroe concise metric summarizing the entire thing instead of 4 metrics. A metric of interest to look at the accuracy o the positive predictions is the **precision** of the classifier.\n",
    "$$precision = \\frac{TP}{TP+FP}$$\n",
    "\n",
    "where *TP* is the number of True Positives and *FP* the False Positives.\n",
    "\n",
    "The metric precision of a classifier is usually used in conjunction with another one, called the **recall** or **sensitivity** or **True Positive Rate**, to reduce the possible manipulation of the precision. The TPR (or *sensitivity*) is the ratio of positive instances correctly detercted by the classifier. \n",
    "\n",
    "$$sensitivity = \\frac{TP}{TP+FN}$$"
   ]
  },
  {
   "cell_type": "markdown",
   "metadata": {},
   "source": [
    "#### Precision and Sensitivity"
   ]
  },
  {
   "cell_type": "code",
   "execution_count": 14,
   "metadata": {},
   "outputs": [
    {
     "name": "stdout",
     "output_type": "stream",
     "text": [
      "Precision Score: 0.8370879772350012 \n",
      "Sensitivity: 0.6511713705958311\n"
     ]
    }
   ],
   "source": [
    "from sklearn.metrics import precision_score, recall_score\n",
    "print(\n",
    "    \"Precision Score:\", precision_score(y_train_5, y_train_pred), \"\\n\"\n",
    "    \"Sensitivity:\", recall_score(y_train_5, y_train_pred)\n",
    ")"
   ]
  },
  {
   "cell_type": "markdown",
   "metadata": {},
   "source": [
    "In my case, when the model detects that an image is of a 5, it is only correct 83.7% of the time. Additionaly, it only detects 65.1% of the 5s, very bad.\n",
    "\n",
    "It is convinient to combine both the precision and sensitivity into a single metric called the $F_1$ *score* ( makes for a simple way to compare classifiers. It is defined as the *harmonic mean* of the sensitivity and precision.\n",
    "- hamonic mean gives more weight to low values, so classifier only gets high $F_1$ if both sensitivity and precision are high.\n",
    "Defined as follows:\n",
    "$$F_1 = \\frac{2}{ \\frac{1}{precision} + \\frac{1}{recall} } \n",
    "                = 2 \\times \\frac{precision \\times sensitivity}{precision +   sensitivity} \n",
    "                = \\frac{TP}{TP + \\frac{FN+FP}{2} }$$\n",
    "                \n",
    "There is a built in sklean function, *f1_score()* that computes this."
   ]
  },
  {
   "cell_type": "code",
   "execution_count": 15,
   "metadata": {},
   "outputs": [
    {
     "data": {
      "text/plain": [
       "0.7325171197343846"
      ]
     },
     "execution_count": 15,
     "metadata": {},
     "output_type": "execute_result"
    }
   ],
   "source": [
    "from sklearn.metrics import f1_score\n",
    "f1_score(y_train_5, y_train_pred)"
   ]
  },
  {
   "cell_type": "markdown",
   "metadata": {},
   "source": [
    "*F_1* score favors classifiers having similar precision and sensitivity. But may not always be worth looking at. Sometimes sensitivity is more important and others precision, depends on context and the problem at hand. \n",
    "- take a classifier detecting if videos are safe for kids. would prefer classifier that rejects good vids (low sensitivity) but keeps safe ones (high precision)\n",
    "    - sensitivity (true positive rate) not as important here. dont need to maximize the number of good videos allowed but want to minimize the number of bad ones, hence high accuracy (make sure videos let through are mostly good)\n",
    "- now sps have classifier tained to detect shoplifters in sireillence images\n",
    "    - fine if low precision but high sensitivity. \n",
    "    - security will get few false alerts but get almost all real shoplifters\n",
    "    \n",
    "**Note:** Cant have both. Increasing precision reduces sensitivity and vice versa. Called the *precision/sensitivity trade-off*."
   ]
  },
  {
   "cell_type": "markdown",
   "metadata": {},
   "source": [
    "#### Precision/Sensitivity Trade-Off\n",
    "\n",
    "To understand how the trade off works, going to dig in a little into how the *SDGClassifier* makes its decisions. \n",
    "- for each observation, computes score based on *decision function*\n",
    "- if score is greater than some threshold, assigns to positive class, otherwise assigned to negative class. \n",
    "- see graph in book. does a pretty good job explaining the inverse relationship  between sensitivity and precision.\n",
    "\n",
    "Sklearn doesnt allow for the threshold to be set manually, but gives access to decision scores used to make predicitons. \n",
    "Instead of calling the classifiers prediction() method, can call the decision_function() methods which returns the scores and use any threshold may want to make the predicitons manually based on the calculated scores.\n"
   ]
  },
  {
   "cell_type": "code",
   "execution_count": 22,
   "metadata": {},
   "outputs": [],
   "source": [
    "y_scores = cross_val_predict(sgd_clf, X_train, y_train_5, cv = 3,\n",
    "                            method=\"decision_function\")\n",
    "# with scores, use precision_recall_curve() function to compute \n",
    "    # precision and sensitivity for all possible thresholds"
   ]
  },
  {
   "cell_type": "code",
   "execution_count": 69,
   "metadata": {},
   "outputs": [
    {
     "data": {
      "image/png": "[encoded data removed]",
      "text/plain": [
       "<Figure size 864x576 with 1 Axes>"
      ]
     },
     "metadata": {
      "needs_background": "light"
     },
     "output_type": "display_data"
    }
   ],
   "source": [
    "from sklearn.metrics import precision_recall_curve\n",
    "\n",
    "precisions, recalls, thresholds = precision_recall_curve(y_train_5, y_scores)\n",
    "\n",
    "#Use matplotlib to plot precision and recall as functions of threshold values\n",
    "\n",
    "def plot_precision_recall_vs_threshold(precisions, recalls, thresholds):\n",
    "    plt.plot(thresholds, precisions[:-1], \"b--\", label = \"Precision\")\n",
    "    plt.plot(thresholds, recalls[:-1], \"g-\", label = \"Sensitivity\")\n",
    "    plt.legend(loc = \"center right\", fontsize = 16)\n",
    "    plt.xlabel(\"Threshold\")\n",
    "    plt.grid(True)\n",
    "    plt.axis([-50000, 50000, 0, 1.01])\n",
    "    \n",
    "# points in the plot are derived such that the precision is 90%. \n",
    "    #Then The threshold for such a precision and its corresponding recall are found\n",
    "\n",
    "# remember, to adjust size of plot using this method, need to call before creating the plot\n",
    "plt.figure(figsize=(12,8))\n",
    "plot_precision_recall_vs_threshold(precisions, recalls, thresholds)\n",
    "plt.plot([3370, 3370], [3370, 0.9], \"r:\")\n",
    "plt.plot([-50000, 3370], [0.9, 0.9], \"r:\")\n",
    "plt.plot([-50000, 3370], [0.48, 0.48], \"r:\")\n",
    "plt.plot([3370], [0.9], \"ro\")\n",
    "plt.plot([3370], [0.48], \"ro\")\n",
    "plt.show()"
   ]
  },
  {
   "cell_type": "markdown",
   "metadata": {},
   "source": [
    "Precision looks bumpy at high threshold because sometime it goes down when raise threshold (but generally rises). Shitty explanation. Look at plot of 5s for possible explanation. Sensitivity on the other hand only goes dwn as threshold increases. \n",
    "\n",
    "High precision classifier can be easily created by adjusting the threshold value (making it higher). But not very useful if recall is too low. \n",
    "\n",
    "**Note: For a given classifier, when given its precision, check at what recall value.**\n",
    "\n",
    "\n",
    "\n",
    "\n",
    "**Alternative:** Other way to look at the trade off is to plot precision directly against the sensitivity. Can usually see a sharp drop off as recall increases. Choice depends on project.\n",
    "\n",
    "Sps want to aim for 90% precision, want to look up what value is the least that gives such precision using th enp.argmax function."
   ]
  },
  {
   "cell_type": "code",
   "execution_count": 68,
   "metadata": {},
   "outputs": [
    {
     "name": "stdout",
     "output_type": "stream",
     "text": [
      "3370.0194991439557 0.9000345901072293 0.4799852425751706\n"
     ]
    }
   ],
   "source": [
    "threshold_90 = thresholds[np.argmax(precisions >= 0.90)]\n",
    "y_train_pred_90 = (y_scores >= threshold_90)\n",
    "print(threshold_90,\n",
    "    precision_score(y_train_5, y_train_pred_90), \n",
    "        recall_score(y_train_5, y_train_pred_90))"
   ]
  },
  {
   "cell_type": "code",
   "execution_count": 80,
   "metadata": {},
   "outputs": [
    {
     "data": {
      "text/plain": [
       "[<matplotlib.lines.Line2D at 0x2890c287898>]"
      ]
     },
     "execution_count": 80,
     "metadata": {},
     "output_type": "execute_result"
    },
    {
     "data": {
      "image/png": "[encoded data removed]",
      "text/plain": [
       "<Figure size 864x576 with 1 Axes>"
      ]
     },
     "metadata": {
      "needs_background": "light"
     },
     "output_type": "display_data"
    }
   ],
   "source": [
    "plt.figure(figsize = (12,8))\n",
    "plt.plot(recalls, precisions, linewidth = 2)\n",
    "plt.axis([0, 1, 0, 1])\n",
    "plt.grid(True)\n",
    "plt.xlabel(\"Sensitivity\")\n",
    "plt.ylabel(\"Precision\")\n",
    "plt.plot([0.48],[0.9], \"ro\")\n",
    "plt.plot([0, 0.48], [0.9, 0.9], \"r--\")\n",
    "plt.plot([0.48, 0.48], [0, 0.9], \"r--\")"
   ]
  },
  {
   "cell_type": "markdown",
   "metadata": {},
   "source": [
    "#### ROC Curve\n",
    "\n",
    "*receiver operating characteristic* (ROC) cire is another common tool used with binary classifier. Similar to precision/recall curve but instead plots the true positive rate(TPR/recall) vs the false positive rate(FPR).\n",
    "- FPR is ratio of negative instances that are incorrectly classified as positive. \n",
    "- it is equal to $1- TNR$, where TNR is the True Negative Rate\n",
    "    - TNR is also called the *specificity*.\n",
    "- ROC curve plots sensitivity vs 1- specificity"
   ]
  },
  {
   "cell_type": "code",
   "execution_count": 49,
   "metadata": {},
   "outputs": [
    {
     "data": {
      "image/png": "[encoded data removed]",
      "text/plain": [
       "<Figure size 864x576 with 1 Axes>"
      ]
     },
     "metadata": {
      "needs_background": "light"
     },
     "output_type": "display_data"
    }
   ],
   "source": [
    "from sklearn.metrics import roc_curve\n",
    "\n",
    "fpr, tpr, thresholds = roc_curve(y_train_5, y_scores)\n",
    "\n",
    "def plot_roc_curve(fpr, tpr, label = None):\n",
    "    plt.plot(fpr, tpr, linewidth = 2, label = label)\n",
    "    plt.plot([0,1], [0,1], \"k--\")\n",
    "    plt.grid(True)\n",
    "    plt.xlabel(\"False Positive Rate\")\n",
    "    plt.ylabel(\"True Positive Rate\")\n",
    "    \n",
    "    ds\n",
    "plt.figure(figsize = (12,8))\n",
    "plot_roc_curve(fpr, tpr)\n",
    "plt.show()"
   ]
  },
  {
   "cell_type": "code",
   "execution_count": null,
   "metadata": {},
   "outputs": [],
   "source": []
  },
  {
   "cell_type": "code",
   "execution_count": null,
   "metadata": {},
   "outputs": [],
   "source": []
  },
  {
   "cell_type": "code",
   "execution_count": null,
   "metadata": {},
   "outputs": [],
   "source": []
  },
  {
   "cell_type": "code",
   "execution_count": null,
   "metadata": {},
   "outputs": [],
   "source": []
  },
  {
   "cell_type": "code",
   "execution_count": null,
   "metadata": {},
   "outputs": [],
   "source": []
  },
  {
   "cell_type": "code",
   "execution_count": null,
   "metadata": {},
   "outputs": [],
   "source": []
  }
 ],
 "metadata": {
  "kernelspec": {
   "display_name": "Python 3",
   "language": "python",
   "name": "python3"
  },
  "language_info": {
   "codemirror_mode": {
    "name": "ipython",
    "version": 3
   },
   "file_extension": ".py",
   "mimetype": "text/x-python",
   "name": "python",
   "nbconvert_exporter": "python",
   "pygments_lexer": "ipython3",
   "version": "3.7.0"
  }
 },
 "nbformat": 4,
 "nbformat_minor": 2
}
